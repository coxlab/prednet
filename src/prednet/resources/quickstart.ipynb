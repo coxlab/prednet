{
 "cells": [
  {
   "cell_type": "code",
   "execution_count": null,
   "metadata": {},
   "outputs": [],
   "source": [
    "import os.path\n",
    "import pkg_resources\n",
    "\n",
    "import prednet.evaluate\n",
    "import prednet.tests\n",
    "\n",
    "filepath = pkg_resources.resource_filename('prednet.tests', os.path.join('resources', 'black.mpg'))\n",
    "prednet.evaluate.save_predicted_frames_for_single_video(filepath, number_of_epochs=4, steps_per_epoch=8)"
   ]
  },
  {
   "cell_type": "code",
   "execution_count": null,
   "metadata": {},
   "outputs": [],
   "source": []
  }
 ],
 "metadata": {
  "kernelspec": {
   "display_name": "Python 3",
   "language": "python",
   "name": "python3"
  },
  "language_info": {
   "codemirror_mode": {
    "name": "ipython",
    "version": 3
   },
   "file_extension": ".py",
   "mimetype": "text/x-python",
   "name": "python",
   "nbconvert_exporter": "python",
   "pygments_lexer": "ipython3",
   "version": "3.6.8"
  }
 },
 "nbformat": 4,
 "nbformat_minor": 4
}
