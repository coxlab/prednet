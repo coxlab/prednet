{
 "cells": [
  {
   "cell_type": "code",
   "execution_count": null,
   "metadata": {},
   "outputs": [],
   "source": [
    "import prednet.evaluate\n",
    "import prednet.train\n",
    "\n",
    "prednet.train.train_on_single_video('path to your video',\n",
    "                                    path_to_save_model_file='path where you want to save the model file')\n",
    "\n",
    "predictedFrames = prednet.evaluate.save_predicted_frames_for_single_video('path to your video',\n",
    "                                                        model_file_path='path where you saved the model file',\n",
    "                                                        path_to_save_predicted_frames='pat to save the video file of predicted frames',\n",
    "                                                        nt=None)\n",
    "# nt=None simplifies things. We may make it the default in the future.\n",
    "\n",
    "prednet.train.train_on_video_list(['path to your video', 'path to your video'],\n",
    "                                  path_to_save_model_file='path where you want to save the model file')\n",
    "# train_on_video_list is literally just a convenience function that calls train_on_single_video in a loop."
   ]
  },
  {
   "cell_type": "code",
   "execution_count": null,
   "metadata": {},
   "outputs": [],
   "source": [
    "import os.path\n",
    "import pkg_resources\n",
    "import IPython.display\n",
    "import skvideo.io\n",
    "\n",
    "import prednet.evaluate\n",
    "import prednet.tests\n",
    "\n",
    "filepath = pkg_resources.resource_filename('prednet.tests', os.path.join('resources', 'black.mpg'))\n",
    "predicted = prednet.evaluate.save_predicted_frames_for_single_video(filepath, number_of_epochs=4, steps_per_epoch=8)\n",
    "# The predicted variable is the raw video; IPython.display.Video requires a filename.\n",
    "# We didn't think to provide a path for the predicted video, but we can retroactively grab the default path.\n",
    "predictedfilename = prednet.evaluate.default_prediction_filepath(filepath)\n",
    "altfilename = os.path.splitext(predictedfilename)[0] + '.ogg'\n",
    "skvideo.io.vwrite(altfilename, skvideo.io.vread(prednet.evaluate.default_prediction_filepath(filepath)))\n",
    "assert os.path.exists(altfilename)\n",
    "IPython.display.Video(altfilename)\n",
    "IPython.display.Video(filepath)\n"
   ]
  },
  {
   "cell_type": "code",
   "execution_count": null,
   "metadata": {},
   "outputs": [],
   "source": []
  }
 ],
 "metadata": {
  "kernelspec": {
   "display_name": "Python 3",
   "language": "python",
   "name": "python3"
  },
  "language_info": {
   "codemirror_mode": {
    "name": "ipython",
    "version": 3
   },
   "file_extension": ".py",
   "mimetype": "text/x-python",
   "name": "python",
   "nbconvert_exporter": "python",
   "pygments_lexer": "ipython3",
   "version": "3.6.8"
  }
 },
 "nbformat": 4,
 "nbformat_minor": 4
}
